{
 "cells": [
  {
   "cell_type": "code",
   "execution_count": 1,
   "metadata": {},
   "outputs": [],
   "source": [
    "import numpy as np \n",
    "\n",
    "\n",
    "# 辅助-根据上下界生成均匀分布的矩阵->[31,1]\n",
    "def solution(lb, ub):  # lb=(31,1)\n",
    "    x = []\n",
    "    for l, u in zip(lb, ub):\n",
    "        xi = np.random.uniform(l, u)\n",
    "        x.append(xi)\n",
    "    x = np.array(x).reshape(len(x), 1)\n",
    "    s = np.sum(x)\n",
    "    if s != 0:\n",
    "        x = x / s\n",
    "    else:\n",
    "        # print(\"Repair Error: all components are 0!\")\n",
    "        x = solution(lb, ub) \n",
    "    return x\n",
    "\n",
    "# 修正子代函数\n",
    "def repair(y, lb, ub):  # 刚传进来的y.shape=(31, 1), max=1348.03   min=-0.007\n",
    "    for i in range(len(y)):\n",
    "        y[i] = max(y[i], lb[i])  #负数变为0, \n",
    "    s = np.sum(y)   \n",
    "    if s != 0:\n",
    "        y = y / s    #缩放使所有变量总和=1,  归一化操作\n",
    "    else:\n",
    "        # print(\"Repair Error: all components are 0!\")\n",
    "        y = solution(lb, ub)  #随机生成y  根据上下界生成均匀分布的解(31,1)\n",
    "    return y\n",
    "\n"
   ]
  },
  {
   "cell_type": "code",
   "execution_count": 2,
   "metadata": {},
   "outputs": [],
   "source": [
    "# 初始化种群p->[100, 225]   lb, ub = np.zeros((31, 1)), np.ones((31, 1))：这两行代码初始化了lb和ub，它们分别表示问题中每个资产的下界（lower bound）和上界（upper bound）。\n",
    "def population(lb, ub, N):  # 种群大小N=100\n",
    "    P = []\n",
    "    for _ in range(N):\n",
    "        P.append(solution(lb, ub))\n",
    "    return P   #(100, 31)初始化种群\n",
    "\n",
    "n = 31\n",
    "lb, ub = np.zeros((n, 1)), np.ones((n, 1))  # 设置上下界->[31, 1]   n行1列全0，n行1列全1\n",
    "P = population(lb, ub, 100)"
   ]
  },
  {
   "cell_type": "code",
   "execution_count": 7,
   "metadata": {},
   "outputs": [
    {
     "name": "stdout",
     "output_type": "stream",
     "text": [
      "(31, 1)\n",
      "<class 'numpy.ndarray'>\n"
     ]
    }
   ],
   "source": [
    "print(P[1].shape)\n",
    "print(type(P[1]))"
   ]
  },
  {
   "cell_type": "code",
   "execution_count": 10,
   "metadata": {},
   "outputs": [],
   "source": [
    "import numpy as np\n",
    "\n",
    "\n",
    "def diff(P, i, b, lb, ub, par):\n",
    "    mutation_rate, mutation_strength = par[0], par[1]\n",
    "    np.random.shuffle(b)\n",
    "    p1 = P[i]   # （31,1)\n",
    "    p2 = P[b[0]]  # 从邻居中随机选择一个个体p2   (31, 1)\n",
    "    # 单点交叉操作\n",
    "    crossover_point = np.random.randint(1, 31)  # 随机选择交叉点\n",
    "    y = np.vstack((a[:crossover_point], b[crossover_point:]))\n",
    "    y = repair(y, lb, ub)# 对变异后的个体 `y` 进行修复操作，确保它在上下界 `lb` 和 `ub` 内。\n",
    "\n",
    "    # 变异操作（添加随机噪声）\n",
    "    mutation_mask = (np.random.rand(31, 1) < mutation_rate).astype(float)\n",
    "    mutation = mutation_strength * (2 * np.random.rand(31, 1) - 1)\n",
    "    y += mutation * mutation_mask\n",
    "    y = repair(y, lb, ub)# 对变异后的个体 `y` 进行修复操作，确保它在上下界 `lb` 和 `ub` 内。\n"
   ]
  },
  {
   "cell_type": "code",
   "execution_count": 2,
   "metadata": {},
   "outputs": [
    {
     "name": "stdout",
     "output_type": "stream",
     "text": [
      "31\n"
     ]
    }
   ],
   "source": [
    "import numpy as np\n",
    "# 定义形状为 (31, 1) 的数组 a 和 b\n",
    "a = np.random.rand(31, 1)\n",
    "b = np.random.rand(31, 1)\n",
    "print(len(a))\n",
    "# 单点交叉操作\n",
    "crossover_point = np.random.randint(1, 31)  # 随机选择交叉点\n",
    "y = np.vstack((a[:crossover_point], b[crossover_point:]))\n",
    "\n",
    "\n",
    "# 变异操作（添加随机噪声）\n",
    "mutation_rate = 0.1  # 控制变异率\n",
    "mutation_strength = 0.1  # 控制变异强度\n",
    "mutation_mask = (np.random.rand(31, 1) < mutation_rate).astype(float)\n",
    "mutation = mutation_strength * (2 * np.random.rand(31, 1) - 1)\n",
    "y += mutation * mutation_mask\n",
    "\n",
    "# y 现在包含了交叉和变异后的新个体\n",
    "# print(y)\n"
   ]
  },
  {
   "cell_type": "code",
   "execution_count": 1,
   "metadata": {},
   "outputs": [
    {
     "name": "stdout",
     "output_type": "stream",
     "text": [
      "(31, 1)\n"
     ]
    }
   ],
   "source": [
    "import numpy as np\n",
    "\n",
    "# 定义形状为 (31, 1) 的数组 a 和 b\n",
    "a = np.random.rand(31, 1)\n",
    "b = np.random.rand(31, 1)\n",
    "\n",
    "# 多点交叉操作\n",
    "num_crossover_points = np.random.randint(1, 16)  # 随机选择多个交叉点，例如 1 到 15 个\n",
    "crossover_points = np.sort(np.random.choice(31, num_crossover_points, replace=False))\n",
    "\n",
    "crossover_points = np.concatenate(([0], crossover_points, [31]))  # 添加起始和结束点\n",
    "\n",
    "y = np.empty_like(a)\n",
    "\n",
    "for i in range(len(crossover_points) - 1):\n",
    "    if i % 2 == 0:\n",
    "        y[crossover_points[i]:crossover_points[i+1]] = a[crossover_points[i]:crossover_points[i+1]]\n",
    "    else:\n",
    "        y[crossover_points[i]:crossover_points[i+1]] = b[crossover_points[i]:crossover_points[i+1]]\n",
    "\n",
    "# 变异操作（添加随机噪声）\n",
    "mutation_rate = 0.1  # 控制变异率\n",
    "mutation_strength = 0.1  # 控制变异强度\n",
    "mutation_mask = (np.random.rand(31, 1) < mutation_rate).astype(float)\n",
    "mutation = mutation_strength * (2 * np.random.rand(31, 1) - 1)\n",
    "y += mutation * mutation_mask\n",
    "\n",
    "# y 现在包含了多点交叉和变异后的新个体\n",
    "print(y.shape)\n"
   ]
  },
  {
   "cell_type": "code",
   "execution_count": null,
   "metadata": {},
   "outputs": [],
   "source": [
    "\n",
    "\n",
    "# adj_lvxm-多项式变异算子(5个参数)\n",
    "def adj_lvxm(P, i, b, lb, ub, par):  # i: 当前要变异的个体的索引\n",
    "    alpha, beta, pm, etam, epsilon = par[0], par[1], par[2], par[3], par[4]\n",
    "    np.random.shuffle(b)\n",
    "    p1 = P[i]   # （31,1)\n",
    "    p2 = P[b[0]]  # 从邻居中随机选择一个个体p2   (31, 1)\n",
    "    y = p1 * epsilon + alpha * levy(beta, len(p1)) * (p1 - p2) * (1 - epsilon)  # 公式8    y=（31， 1）\n",
    "    y = repair(y, lb, ub)# 对变异后的个体 `y` 进行修复操作，确保它在上下界 `lb` 和 `ub` 内。\n",
    "    y = poly_mutation(y, lb, ub, etam, pm)  # 对变异后的个体 `y` 进行多项式变异操作，但这次使用参数 `etam` 和 `pm` 来控制多项式变异\n",
    "    y = repair(y, lb, ub)  # 再次对变异后的个体 `y` 进行修复操作，确保它在上下界 `lb` 和 `ub` 内\n",
    "    return y   # （31， 1)\n"
   ]
  },
  {
   "cell_type": "code",
   "execution_count": 1,
   "metadata": {},
   "outputs": [],
   "source": [
    "import torch\n",
    "import torch.nn as nn\n",
    "import torch.nn.functional as F\n",
    "\n",
    "class Conv1DModel(nn.Module):\n",
    "    def __init__(self, input_channel=1, hidden_channel=64, output_channel=1, time_embedding_dim=31):\n",
    "        super(Conv1DModel, self).__init__()\n",
    "        \n",
    "        # 定义时间嵌入层\n",
    "        # self.time_embedding = nn.Embedding(num_embeddings=10, embedding_dim=time_embedding_dim)\n",
    "        \n",
    "        # 1D卷积层\n",
    "        self.conv1d = nn.Conv1d(in_channels=input_channel, out_channels=hidden_channel, kernel_size=5, padding=2)\n",
    "        \n",
    "        # 激活函数\n",
    "        self.relu = nn.ReLU()\n",
    "        \n",
    "        self.mid = nn.Conv1d(in_channels=hidden_channel, out_channels=hidden_channel, kernel_size=5, padding=2)\n",
    "        \n",
    "        # 输出层\n",
    "        self.output_layer = nn.Conv1d(in_channels=hidden_channel, out_channels=output_channel, kernel_size=5, padding=2)\n",
    "\n",
    "    def forward(self, x, t):\n",
    "        # 输入张量 x 的形状应为 (batch_size, input_dim, 1)\n",
    "        batch, _, len = x.shape\n",
    "\n",
    "        # 1D卷积操作\n",
    "        x = self.conv1d(x)\n",
    "        \n",
    "        # 嵌入时间步\n",
    "        # t_embedding = self.time_embedding(t)   # (64, 31)\n",
    "        # t_embedding = t_embedding.view(batch, 1, -1)\n",
    "\n",
    "\n",
    "        # print(\"t_embedding\", t_embedding.shape)\n",
    "        # print(\"x.shape:\", x.shape)\n",
    "\n",
    "        \n",
    "        # 将时间嵌入与输入 x 连接\n",
    "        # x = torch.cat([x, t_embedding], dim=1)\n",
    "        # x += t_embedding\n",
    "        x = self.relu(x)\n",
    "\n",
    "        x = self.mid(x)\n",
    "        # x+= t_embedding\n",
    "        x = self.relu(x)\n",
    "        \n",
    "        # 输出层\n",
    "        output = self.output_layer(x)\n",
    "\n",
    "        output = output.view(batch, -1)\n",
    "        output = F.softmax(output, dim=1)  # 使用softmax确保输出的每个维度的和为1\n",
    "        \n",
    "        return output\n"
   ]
  },
  {
   "cell_type": "markdown",
   "metadata": {},
   "source": [
    "# 根据instance来确定channel的大小\n"
   ]
  },
  {
   "cell_type": "code",
   "execution_count": 18,
   "metadata": {},
   "outputs": [],
   "source": [
    "class MLPDiffusion(nn.Module):    \n",
    "    def __init__(self, instance):\n",
    "        # instance：数据集的id，根据数据集的不同来设置不同的hidden_channel\n",
    "        super(MLPDiffusion, self).__init__()\n",
    "        \n",
    "        dim = [24, 32, 32, 48, 64]\n",
    "        input_channel = 1\n",
    "        hidden_channel = dim[instance-1] \n",
    "        output_channel = 1\n",
    "        base_channels = 16\n",
    "        time_emb_scale = 1.0\n",
    "        time_emb_dim = base_channels\n",
    "        dropout_prob = 0.5\n",
    "\n",
    "        # 1D卷积层\n",
    "        self.conv1d = nn.Conv1d(in_channels=input_channel, out_channels=hidden_channel, kernel_size=5, padding=2)\n",
    "        # 激活函数\n",
    "        self.relu = nn.ReLU()\n",
    "        # Dropout层\n",
    "        self.dropout = nn.Dropout(p=dropout_prob)\n",
    "\n",
    "        self.mid1 = nn.Conv1d(in_channels=hidden_channel, out_channels=hidden_channel, kernel_size=5, padding=2)\n",
    "        self.mid2 = nn.Conv1d(in_channels=hidden_channel, out_channels=hidden_channel, kernel_size=5, padding=2)\n",
    "        # 输出层\n",
    "        self.output_layer = nn.Conv1d(in_channels=hidden_channel, out_channels=output_channel, kernel_size=5, padding=2)\n",
    "\n",
    "        # self.time_mlp = nn.Sequential(\n",
    "        #     PositionalEmbedding(base_channels, time_emb_scale),\n",
    "        #     # nn.Linear(base_channels, time_emb_dim),\n",
    "        #     nn.SiLU(),\n",
    "        #     nn.Linear(base_channels, hidden_channel),\n",
    "        # )\n",
    "\n",
    "    def forward(self, x, t):\n",
    "        # 输入张量 x 的形状应为 (batch_size, input_channel, dim)\n",
    "        # t的形状应该为(batch_size,)\n",
    "        batch, _, len = x.shape\n",
    "        # t_emb = self.time_mlp(t)  # (batch_size, outputchannel)\n",
    "\n",
    "        #\n",
    "        #  1D卷积操作\n",
    "        # x = self.relu(self.conv1d(x)) + t_emb[:, :, None]\n",
    "        # x = self.relu(self.mid(x)) + t_emb[:, :, None]\n",
    "        # x = self.relu(self.conv1d(x)) \n",
    "        # x = self.relu(self.mid1(x)) \n",
    "        # x = self.relu(self.mid2(x))\n",
    "\n",
    "        # 1D卷积操作\n",
    "        x = self.conv1d(x)\n",
    "        x = self.relu(x)\n",
    "        # Dropout\n",
    "        x = self.dropout(x)\n",
    "        # 中间层1\n",
    "        x = self.mid1(x)\n",
    "        x = self.relu(x)\n",
    "        x = self.dropout(x)\n",
    "        # 中间层2\n",
    "        x = self.mid2(x)\n",
    "        x = self.relu(x)\n",
    "        x = self.dropout(x)\n",
    "        # 输出层\n",
    "\n",
    "        # 输出层\n",
    "        output = self.output_layer(x) \n",
    "\n",
    "        output = output.view(batch, -1)\n",
    "        output = F.softmax(output/3.0, dim=1)  # 使用softmax确保输出的每个维度的和为1\n",
    "        \n",
    "        return output"
   ]
  },
  {
   "cell_type": "code",
   "execution_count": 20,
   "metadata": {},
   "outputs": [
    {
     "name": "stdout",
     "output_type": "stream",
     "text": [
      "torch.Size([64])\n",
      "总共有 6073 个可训练参数.\n"
     ]
    }
   ],
   "source": [
    "# 测试张量\n",
    "batch_size = 64\n",
    "dim = 31\n",
    "input_data = torch.rand(batch_size, 1, dim)  # (batch, channel, length)\n",
    "\n",
    "t = torch.randint(low=1, high=10, size=(64,))\n",
    "\n",
    "print(t.shape)\n",
    "# 创建模型实例\n",
    "# model = Conv1DModel(1) # 21249个参数\n",
    "# 31 85 89 98 225\n",
    "model = MLPDiffusion(1)  # 1473\n",
    "\n",
    "# 统计模型的可训练参数数量\n",
    "total_params = sum(p.numel() for p in model.parameters() if p.requires_grad)\n",
    "\n",
    "print(f\"总共有 {total_params} 个可训练参数.\")\n"
   ]
  },
  {
   "cell_type": "code",
   "execution_count": 14,
   "metadata": {},
   "outputs": [
    {
     "name": "stdout",
     "output_type": "stream",
     "text": [
      "torch.Size([64, 31])\n",
      "tensor([0.0372, 0.0369, 0.0341, 0.0334, 0.0304, 0.0322, 0.0314, 0.0315, 0.0307,\n",
      "        0.0313, 0.0318, 0.0326, 0.0326, 0.0319, 0.0329, 0.0317, 0.0314, 0.0309,\n",
      "        0.0317, 0.0322, 0.0304, 0.0307, 0.0316, 0.0336, 0.0311, 0.0334, 0.0326,\n",
      "        0.0340, 0.0313, 0.0312, 0.0312], grad_fn=<SelectBackward0>)\n"
     ]
    }
   ],
   "source": [
    "# 前向传播\n",
    "output = model(input_data, t)\n",
    "\n",
    "# 输出张量的形状\n",
    "print(output.shape)  # 应为 (64, 31)\n",
    "print(output[0])"
   ]
  },
  {
   "cell_type": "code",
   "execution_count": 1,
   "metadata": {},
   "outputs": [],
   "source": [
    "import math\n",
    "import torch\n",
    "import torch.nn as nn\n",
    "\n",
    "class PositionalEmbedding(nn.Module):\n",
    "    __doc__ = r\"\"\"Computes a positional embedding of timesteps.\n",
    "\n",
    "    Input:\n",
    "        x: tensor of shape (N)\n",
    "    Output:\n",
    "        tensor of shape (N, dim)\n",
    "    Args:\n",
    "        dim (int): embedding dimension\n",
    "        scale (float): linear scale to be applied to timesteps. Default: 1.0\n",
    "    \"\"\"\n",
    "\n",
    "    def __init__(self, dim=128, scale=1.0):\n",
    "        super().__init__()\n",
    "        assert dim % 2 == 0\n",
    "        self.dim = dim\n",
    "        self.scale = scale\n",
    "\n",
    "    def forward(self, x):  # torch.size([128])\n",
    "        device = x.device\n",
    "        half_dim = self.dim // 2\n",
    "        emb = math.log(10000) / half_dim\n",
    "        emb = torch.exp(torch.arange(half_dim, device=device) * -emb)\n",
    "        emb = torch.outer(x * self.scale, emb)\n",
    "        emb = torch.cat((emb.sin(), emb.cos()), dim=-1)\n",
    "        return emb\n",
    "\n",
    "# 参数设置\n",
    "base_channels = 128\n",
    "time_emb_dim = 128\n",
    "time_emb_scale = 1\n",
    "\n",
    "\n",
    "time_mlp = nn.Sequential(\n",
    "            PositionalEmbedding(base_channels, time_emb_scale),  # (batch,) -> (batch, base_channels)\n",
    "            nn.Linear(base_channels, time_emb_dim),              # (batch, base_channels) -> (batch, time_emb_dim)\n",
    "            nn.SiLU(),\n",
    "            nn.Linear(time_emb_dim, time_emb_dim),               # (batch, time_emb_dim) -> (batch, time_emb_dim)\n",
    "        )\n"
   ]
  },
  {
   "cell_type": "code",
   "execution_count": 5,
   "metadata": {},
   "outputs": [
    {
     "name": "stdout",
     "output_type": "stream",
     "text": [
      "torch.Size([64, 128])\n"
     ]
    }
   ],
   "source": [
    "t = torch.randint(1, 30, size=(64,))\n",
    "\n",
    "t_emb = time_mlp(t)\n",
    "print(t_emb.shape)  # (batch, dim)= (64, 128)\n"
   ]
  },
  {
   "cell_type": "code",
   "execution_count": null,
   "metadata": {},
   "outputs": [],
   "source": [
    "\n",
    "input_data = torch.rand(batch_size, 1, dim)  # (batch, channel, length)\n",
    "\n",
    "# 参数\n",
    "input_channel = 1\n",
    "hidden_channel = 64\n",
    "conv1d = nn.Conv1d(in_channels=input_channel, out_channels=hidden_channel, kernel_size=5, padding=2)\n",
    "# 激活函数\n",
    "relu = nn.ReLU()\n",
    "\n",
    "x = relu(cov1d(input_data))\n",
    "print(x.shape)\n"
   ]
  },
  {
   "cell_type": "code",
   "execution_count": null,
   "metadata": {},
   "outputs": [],
   "source": [
    "# 把时间t加入到x中去\n",
    "    def forward(self, x, time_emb=None, y=None):\n",
    "        out = self.activation(self.norm_1(x))  # [128, 128, 32, 32]\n",
    "        out = self.conv_1(out)# [128, 128, 32, 32]\n",
    "\n",
    "        if self.time_bias is not None: \n",
    "            if time_emb is None:      # time_emb = [128, 512]\n",
    "                raise ValueError(\"time conditioning was specified but time_emb is not passed\")\n",
    "            out += self.time_bias(self.activation(time_emb))[:, :, None, None]\n",
    "            # time_bias : (128, 512)  -> (128, 128)\n",
    "\n",
    "\n",
    "# 1. time先经过time_mlp 变为  (batch , time_emb_dim)\n",
    "# 2. 对x进行conv activation处理，变为(batch, channel, len)\n",
    "# 3. 再经过activation和time_bias变为 (batch, channel)\n",
    "# 4. x和time_bias相加\n",
    "\n",
    "# (batch, channel, len)    t: (batch ,channel)"
   ]
  },
  {
   "cell_type": "code",
   "execution_count": 8,
   "metadata": {},
   "outputs": [
    {
     "name": "stdout",
     "output_type": "stream",
     "text": [
      "tensor([1, 0, 0, 0, 0, 2, 2, 0, 1, 1])\n",
      "torch.Size([10])\n",
      "100\n"
     ]
    }
   ],
   "source": [
    "import torch \n",
    "\n",
    "t_p = torch.randint(0, 3, size=(10,))\n",
    "print(t_p)\n",
    "\n",
    "t1 = torch.full([10], 3)\n",
    "print(t1.shape)\n",
    "\n",
    "noises = torch.randn(100, 31)\n",
    "print(noises.shape[0])"
   ]
  },
  {
   "cell_type": "code",
   "execution_count": 30,
   "metadata": {},
   "outputs": [
    {
     "name": "stdout",
     "output_type": "stream",
     "text": [
      "11\n"
     ]
    }
   ],
   "source": [
    "import numpy as np \n",
    "num_crossover_points = np.random.randint(1, 31)\n",
    "print(num_crossover_points) "
   ]
  },
  {
   "cell_type": "code",
   "execution_count": 14,
   "metadata": {},
   "outputs": [
    {
     "name": "stdout",
     "output_type": "stream",
     "text": [
      "11\n",
      "[ 2  7  9 16 19 21 22 24 25 28 30]\n",
      "[ 0  2  7  9 16 19 21 22 24 25 28 30 31]\n"
     ]
    }
   ],
   "source": [
    "import numpy as np\n",
    "dim=31\n",
    "num_crossover_points = np.random.randint(1, dim)  # 随机选择多个交叉点，例如 1 到 15 个\n",
    "crossover_points = np.sort(np.random.choice(dim, num_crossover_points, replace=False))\n",
    "print(num_crossover_points) # 8\n",
    "print(crossover_points)  # [ 0  7  8 13 14 22 27 29]\n",
    "\n",
    "# 在添加 0 之前检查是否已存在 0\n",
    "if crossover_points[0] != 0:\n",
    "    crossover_points = np.concatenate(([0], crossover_points))\n",
    "if crossover_points[-1] != dim:\n",
    "    crossover_points = np.concatenate([crossover_points, [dim]])\n",
    "\n",
    "print(crossover_points) # [ 0  0  7  8 13 14 22 27 29 31]"
   ]
  },
  {
   "cell_type": "code",
   "execution_count": 33,
   "metadata": {},
   "outputs": [
    {
     "name": "stdout",
     "output_type": "stream",
     "text": [
      "15\n"
     ]
    }
   ],
   "source": [
    "a =  np.random.rand(31, 1)\n",
    "# print(a)\n",
    "mutation_rate=0.5\n",
    "mutation_mask = (np.random.rand(dim, 1) < mutation_rate).astype(float)\n",
    "# print(mutation_mask)\n",
    "# 统计 True 值的数量\n",
    "num_true_values = np.count_nonzero(mutation_mask)\n",
    "\n",
    "print(num_true_values)"
   ]
  },
  {
   "cell_type": "code",
   "execution_count": 3,
   "metadata": {},
   "outputs": [
    {
     "name": "stdout",
     "output_type": "stream",
     "text": [
      "[ 0.00469152  0.00659777 -0.00164423  0.01350225 -0.01555822 -0.01264883\n",
      "  0.00393513  0.00288629  0.00335959  0.00249217  0.00519367 -0.0021006\n",
      " -0.016811    0.02197975 -0.00618664 -0.00905247 -0.00557091  0.00704781\n",
      "  0.00826932  0.00794601  0.01208622 -0.00980471  0.0060093  -0.00420214\n",
      "  0.00525824 -0.01070709 -0.00173743  0.02113231  0.00587889  0.00470177\n",
      " -0.00282406]\n"
     ]
    }
   ],
   "source": [
    "import numpy as np \n",
    "alpha = np.random.uniform(0, 1, size=31)\n",
    "# print(alpha)\n",
    "mu, sigma = 0, 0.01\n",
    "a = np.random.normal(mu, sigma, size=31)\n",
    "print(a)"
   ]
  },
  {
   "cell_type": "code",
   "execution_count": 7,
   "metadata": {},
   "outputs": [],
   "source": [
    "import numpy as np \n",
    "from scipy.special import gamma as G\n",
    "\n",
    "# 辅助-LEVY函数.    这个函数的目的是生成服从 Lévy 分布的随机数，通常用于优化算法中的多项式变异等操作。\n",
    "def levy(beta, n):   # beta=0.3, n=len(p1)=31\n",
    "    num = G(1 + beta) * np.sin(np.pi * beta / 2)\n",
    "    den = G((1 + beta) / 2) * beta * 2 ** ((beta - 1) / 2)  # 公式6\n",
    "    sigma_u, sigma_v = (num / den) ** (1 / beta), 1\n",
    "    u = np.random.normal(0, sigma_u, size=n)\n",
    "    v = np.random.normal(0, sigma_v, size=n)\n",
    "    z = u / (np.abs(v) ** (1 / beta))\n",
    "    return z.reshape(n, 1)\n",
    "\n",
    "# 修正子代函数\n",
    "def repair(y, lb, ub):  # 刚传进来的y.shape=(31, 1), max=1348.03   min=-0.007\n",
    "    for i in range(len(y)):\n",
    "        y[i] = max(y[i], lb[i])  #负数变为0, \n",
    "    s = np.sum(y)   \n",
    "    if s > 1e-04:\n",
    "        y = y / s    #缩放使所有变量总和=1,  归一化操作\n",
    "    else:\n",
    "        # print(\"Repair Error: all components are 0!\")\n",
    "        y = solution(lb, ub)  #随机生成y  根据上下界生成均匀分布的解(31,1)\n",
    "    return y\n",
    "\n",
    "\n",
    "def crossover(p1, p2):\n",
    "    if np.random.uniform(0, 1) < 1:\n",
    "        alpha = np.random.uniform(0, 1, size=p1.shape)\n",
    "        return alpha * p1 + (1 - alpha) * p2\n",
    "    else:\n",
    "        return p1\n",
    "\n",
    "def adj_lvxm_improved(P, i, b, lb, ub, par):\n",
    "    gamma, delta, alpha, beta, pm, etam, epsilon, mu, sigma = par\n",
    "    np.random.shuffle(b)\n",
    "    p1 = P[i]\n",
    "    p2 = P[b[0]]\n",
    "    y = p1 * epsilon + alpha * levy(beta, len(p1)) * (p1 - p2) * (1 - epsilon)\n",
    "    y = repair(y, lb, ub)\n",
    "    y = crossover(y, p2)\n",
    "    y = poly_mutation(y, lb, ub, etam, pm)\n",
    "    # y = gaussian_mutation(y, mu, sigma)\n",
    "    y = repair(y, lb, ub)\n",
    "    return y\n"
   ]
  },
  {
   "cell_type": "code",
   "execution_count": 8,
   "metadata": {},
   "outputs": [
    {
     "name": "stdout",
     "output_type": "stream",
     "text": [
      "(50,)\n"
     ]
    },
    {
     "ename": "ValueError",
     "evalue": "The truth value of an array with more than one element is ambiguous. Use a.any() or a.all()",
     "output_type": "error",
     "traceback": [
      "\u001b[0;31m---------------------------------------------------------------------------\u001b[0m",
      "\u001b[0;31mValueError\u001b[0m                                Traceback (most recent call last)",
      "\u001b[1;32m/home/aaa/ML/paper/APG-SMOEA/code/function/test.ipynb 单元格 21\u001b[0m line \u001b[0;36m5\n\u001b[1;32m     <a href='vscode-notebook-cell://wsl%2Bubuntu-20.04/home/aaa/ML/paper/APG-SMOEA/code/function/test.ipynb#X26sdnNjb2RlLXJlbW90ZQ%3D%3D?line=51'>52</a>\u001b[0m ub \u001b[39m=\u001b[39m [\u001b[39m10\u001b[39m, \u001b[39m10\u001b[39m]\n\u001b[1;32m     <a href='vscode-notebook-cell://wsl%2Bubuntu-20.04/home/aaa/ML/paper/APG-SMOEA/code/function/test.ipynb#X26sdnNjb2RlLXJlbW90ZQ%3D%3D?line=52'>53</a>\u001b[0m par \u001b[39m=\u001b[39m (\u001b[39m0.5\u001b[39m, \u001b[39m0.5\u001b[39m, \u001b[39m0.5\u001b[39m, \u001b[39m1.5\u001b[39m, \u001b[39m0.1\u001b[39m, \u001b[39m10\u001b[39m, \u001b[39m0.5\u001b[39m, \u001b[39m0.5\u001b[39m, \u001b[39m0.5\u001b[39m)  \u001b[39m# Example parameters\u001b[39;00m\n\u001b[0;32m---> <a href='vscode-notebook-cell://wsl%2Bubuntu-20.04/home/aaa/ML/paper/APG-SMOEA/code/function/test.ipynb#X26sdnNjb2RlLXJlbW90ZQ%3D%3D?line=54'>55</a>\u001b[0m best_solution, best_fitness \u001b[39m=\u001b[39m genetic_algorithm_with_SA(objective_function, population_size, max_iterations, lb, ub, par)\n\u001b[1;32m     <a href='vscode-notebook-cell://wsl%2Bubuntu-20.04/home/aaa/ML/paper/APG-SMOEA/code/function/test.ipynb#X26sdnNjb2RlLXJlbW90ZQ%3D%3D?line=55'>56</a>\u001b[0m \u001b[39mprint\u001b[39m(\u001b[39m\"\u001b[39m\u001b[39mBest solution:\u001b[39m\u001b[39m\"\u001b[39m, best_solution)\n\u001b[1;32m     <a href='vscode-notebook-cell://wsl%2Bubuntu-20.04/home/aaa/ML/paper/APG-SMOEA/code/function/test.ipynb#X26sdnNjb2RlLXJlbW90ZQ%3D%3D?line=56'>57</a>\u001b[0m \u001b[39mprint\u001b[39m(\u001b[39m\"\u001b[39m\u001b[39mBest fitness:\u001b[39m\u001b[39m\"\u001b[39m, best_fitness)\n",
      "\u001b[1;32m/home/aaa/ML/paper/APG-SMOEA/code/function/test.ipynb 单元格 21\u001b[0m line \u001b[0;36m3\n\u001b[1;32m     <a href='vscode-notebook-cell://wsl%2Bubuntu-20.04/home/aaa/ML/paper/APG-SMOEA/code/function/test.ipynb#X26sdnNjb2RlLXJlbW90ZQ%3D%3D?line=27'>28</a>\u001b[0m b \u001b[39m=\u001b[39m \u001b[39mlist\u001b[39m(\u001b[39mrange\u001b[39m(population_size))\n\u001b[1;32m     <a href='vscode-notebook-cell://wsl%2Bubuntu-20.04/home/aaa/ML/paper/APG-SMOEA/code/function/test.ipynb#X26sdnNjb2RlLXJlbW90ZQ%3D%3D?line=28'>29</a>\u001b[0m b\u001b[39m.\u001b[39mremove(i)\n\u001b[0;32m---> <a href='vscode-notebook-cell://wsl%2Bubuntu-20.04/home/aaa/ML/paper/APG-SMOEA/code/function/test.ipynb#X26sdnNjb2RlLXJlbW90ZQ%3D%3D?line=29'>30</a>\u001b[0m y \u001b[39m=\u001b[39m adj_lvxm_improved(P, i, b, lb, ub, par)\n\u001b[1;32m     <a href='vscode-notebook-cell://wsl%2Bubuntu-20.04/home/aaa/ML/paper/APG-SMOEA/code/function/test.ipynb#X26sdnNjb2RlLXJlbW90ZQ%3D%3D?line=30'>31</a>\u001b[0m y_fitness \u001b[39m=\u001b[39m objective_function(y)\n\u001b[1;32m     <a href='vscode-notebook-cell://wsl%2Bubuntu-20.04/home/aaa/ML/paper/APG-SMOEA/code/function/test.ipynb#X26sdnNjb2RlLXJlbW90ZQ%3D%3D?line=32'>33</a>\u001b[0m \u001b[39m# Simulated Annealing acceptance criterion\u001b[39;00m\n",
      "\u001b[1;32m/home/aaa/ML/paper/APG-SMOEA/code/function/test.ipynb 单元格 21\u001b[0m line \u001b[0;36m4\n\u001b[1;32m     <a href='vscode-notebook-cell://wsl%2Bubuntu-20.04/home/aaa/ML/paper/APG-SMOEA/code/function/test.ipynb#X26sdnNjb2RlLXJlbW90ZQ%3D%3D?line=37'>38</a>\u001b[0m p2 \u001b[39m=\u001b[39m P[b[\u001b[39m0\u001b[39m]]\n\u001b[1;32m     <a href='vscode-notebook-cell://wsl%2Bubuntu-20.04/home/aaa/ML/paper/APG-SMOEA/code/function/test.ipynb#X26sdnNjb2RlLXJlbW90ZQ%3D%3D?line=38'>39</a>\u001b[0m y \u001b[39m=\u001b[39m p1 \u001b[39m*\u001b[39m epsilon \u001b[39m+\u001b[39m alpha \u001b[39m*\u001b[39m levy(beta, \u001b[39mlen\u001b[39m(p1)) \u001b[39m*\u001b[39m (p1 \u001b[39m-\u001b[39m p2) \u001b[39m*\u001b[39m (\u001b[39m1\u001b[39m \u001b[39m-\u001b[39m epsilon)\n\u001b[0;32m---> <a href='vscode-notebook-cell://wsl%2Bubuntu-20.04/home/aaa/ML/paper/APG-SMOEA/code/function/test.ipynb#X26sdnNjb2RlLXJlbW90ZQ%3D%3D?line=39'>40</a>\u001b[0m y \u001b[39m=\u001b[39m repair(y, lb, ub)\n\u001b[1;32m     <a href='vscode-notebook-cell://wsl%2Bubuntu-20.04/home/aaa/ML/paper/APG-SMOEA/code/function/test.ipynb#X26sdnNjb2RlLXJlbW90ZQ%3D%3D?line=40'>41</a>\u001b[0m y \u001b[39m=\u001b[39m crossover(y, p2)\n\u001b[1;32m     <a href='vscode-notebook-cell://wsl%2Bubuntu-20.04/home/aaa/ML/paper/APG-SMOEA/code/function/test.ipynb#X26sdnNjb2RlLXJlbW90ZQ%3D%3D?line=41'>42</a>\u001b[0m y \u001b[39m=\u001b[39m poly_mutation(y, lb, ub, etam, pm)\n",
      "\u001b[1;32m/home/aaa/ML/paper/APG-SMOEA/code/function/test.ipynb 单元格 21\u001b[0m line \u001b[0;36m1\n\u001b[1;32m     <a href='vscode-notebook-cell://wsl%2Bubuntu-20.04/home/aaa/ML/paper/APG-SMOEA/code/function/test.ipynb#X26sdnNjb2RlLXJlbW90ZQ%3D%3D?line=14'>15</a>\u001b[0m \u001b[39mdef\u001b[39;00m \u001b[39mrepair\u001b[39m(y, lb, ub):  \u001b[39m# 刚传进来的y.shape=(31, 1), max=1348.03   min=-0.007\u001b[39;00m\n\u001b[1;32m     <a href='vscode-notebook-cell://wsl%2Bubuntu-20.04/home/aaa/ML/paper/APG-SMOEA/code/function/test.ipynb#X26sdnNjb2RlLXJlbW90ZQ%3D%3D?line=15'>16</a>\u001b[0m     \u001b[39mfor\u001b[39;00m i \u001b[39min\u001b[39;00m \u001b[39mrange\u001b[39m(\u001b[39mlen\u001b[39m(y)):\n\u001b[0;32m---> <a href='vscode-notebook-cell://wsl%2Bubuntu-20.04/home/aaa/ML/paper/APG-SMOEA/code/function/test.ipynb#X26sdnNjb2RlLXJlbW90ZQ%3D%3D?line=16'>17</a>\u001b[0m         y[i] \u001b[39m=\u001b[39m \u001b[39mmax\u001b[39;49m(y[i], lb[i])  \u001b[39m#负数变为0, \u001b[39;00m\n\u001b[1;32m     <a href='vscode-notebook-cell://wsl%2Bubuntu-20.04/home/aaa/ML/paper/APG-SMOEA/code/function/test.ipynb#X26sdnNjb2RlLXJlbW90ZQ%3D%3D?line=17'>18</a>\u001b[0m     s \u001b[39m=\u001b[39m np\u001b[39m.\u001b[39msum(y)   \n\u001b[1;32m     <a href='vscode-notebook-cell://wsl%2Bubuntu-20.04/home/aaa/ML/paper/APG-SMOEA/code/function/test.ipynb#X26sdnNjb2RlLXJlbW90ZQ%3D%3D?line=18'>19</a>\u001b[0m     \u001b[39mif\u001b[39;00m s \u001b[39m>\u001b[39m \u001b[39m1e-04\u001b[39m:\n",
      "\u001b[0;31mValueError\u001b[0m: The truth value of an array with more than one element is ambiguous. Use a.any() or a.all()"
     ]
    }
   ],
   "source": [
    "import numpy as np\n",
    "\n",
    "# ... 上述函数保持不变 ...\n",
    "\n",
    "def simulated_annealing_acceptance(new_fitness, current_fitness, temperature):\n",
    "    if new_fitness < current_fitness:\n",
    "        return True\n",
    "    else:\n",
    "        delta = new_fitness - current_fitness\n",
    "        probability = np.exp(-delta / temperature)\n",
    "        return np.random.uniform(0, 1) < probability\n",
    "\n",
    "def genetic_algorithm_with_SA(objective_function, population_size, max_iterations, lb, ub, par):\n",
    "    P = np.random.uniform(lb, ub, (population_size, len(lb)))  # Initialize population\n",
    "    fitness = np.apply_along_axis(objective_function, 1, P)\n",
    "    print(fitness.shape)\n",
    "    best_index = np.argmin(fitness)\n",
    "    best_solution = P[best_index]   # 最好的解\n",
    "    best_fitness = fitness[best_index]  # 最好的目标函数值\n",
    "\n",
    "    initial_temperature = 1.0\n",
    "    cooling_rate = 0.995\n",
    "    \n",
    "    for iteration in range(max_iterations):\n",
    "        temperature = initial_temperature * (cooling_rate ** iteration)\n",
    "\n",
    "        for i in range(population_size):\n",
    "            b = list(range(population_size))\n",
    "            b.remove(i)\n",
    "            y = adj_lvxm_improved(P, i, b, lb, ub, par)\n",
    "            y_fitness = objective_function(y)\n",
    "\n",
    "            # Simulated Annealing acceptance criterion\n",
    "            if simulated_annealing_acceptance(y_fitness, fitness[i], temperature):\n",
    "                P[i] = y\n",
    "                fitness[i] = y_fitness\n",
    "\n",
    "                # Update best solution if necessary\n",
    "                if y_fitness < best_fitness:\n",
    "                    best_fitness = y_fitness\n",
    "                    best_solution = y\n",
    "\n",
    "    return best_solution, best_fitness\n",
    "\n",
    "# Example usage\n",
    "def objective_function(x):\n",
    "    return np.sum(x ** 2)\n",
    "\n",
    "population_size = 50\n",
    "max_iterations = 1000\n",
    "lb = [-10, -10]\n",
    "ub = [10, 10]\n",
    "par = (0.5, 0.5, 0.5, 1.5, 0.1, 10, 0.5, 0.5, 0.5)  # Example parameters\n",
    "\n",
    "best_solution, best_fitness = genetic_algorithm_with_SA(objective_function, population_size, max_iterations, lb, ub, par)\n",
    "print(\"Best solution:\", best_solution)\n",
    "print(\"Best fitness:\", best_fitness)\n"
   ]
  },
  {
   "cell_type": "code",
   "execution_count": 3,
   "metadata": {},
   "outputs": [
    {
     "name": "stdout",
     "output_type": "stream",
     "text": [
      "<class 'numpy.ndarray'>\n",
      "[0 1 2 3 4 5 6 7 8 9]\n",
      "[0 1 3 4 5 6 7 8 9]\n",
      "<class 'list'>\n"
     ]
    }
   ],
   "source": [
    "import numpy as np\n",
    "\n",
    "b = np.arange(10)\n",
    "print(type(b))\n",
    "print(b)\n",
    "b = b[b != 2]\n",
    "print(b)\n",
    "\n",
    "\n",
    "a = [0, 1, 2, 3, 4, 5, 6, 7, 8, 9, 10, 11, 12, 13]\n",
    "print(type(a))"
   ]
  }
 ],
 "metadata": {
  "kernelspec": {
   "display_name": "moea",
   "language": "python",
   "name": "python3"
  },
  "language_info": {
   "codemirror_mode": {
    "name": "ipython",
    "version": 3
   },
   "file_extension": ".py",
   "mimetype": "text/x-python",
   "name": "python",
   "nbconvert_exporter": "python",
   "pygments_lexer": "ipython3",
   "version": "3.9.18"
  }
 },
 "nbformat": 4,
 "nbformat_minor": 2
}
